#automobile project 
import pandas as pd 
import numpy as np
import matplotlib.pyplot as plt

# Importing CSV data
carpro = pd.read_csv(r"C:\Users\Seema\OneDrive\Documents\car4.csv")
print(carpro.head(20))

# Checking missing values 
print(carpro.isna())

# Dropping missing values
carpro = carpro.dropna()

# Find the maximum price
max_price = carpro['price'].max()

# Get the car information for the car with the maximum price
max_priced_car = carpro[carpro['price'] == max_price]

# Find the minimum price
min_price = carpro['price'].min()

# Get the car information for the car with the minimum price
min_priced_car = carpro[carpro['price'] == min_price]

# Print the information about the car with the maximum price
print("Maximum priced car details:")
print(max_priced_car)

# Print the information about the car with the minimum price
print("Minimum priced car details:")
print(min_priced_car)

body_style_counts = carpro['body-style'].value_counts()

# Print the result
print("Number of cars with different body styles:\n")
print(body_style_counts)

# Group by 'BodyStyle' and calculate the average price for each body style
average_price_by_body_style = carpro.groupby('body-style')['price'].mean()

# Sort the result in descending order
average_price_by_body_style_sorted = average_price_by_body_style.sort_values(ascending=False)

# Print the result
print("Average price of cars by body style (sorted in descending order):")
print(average_price_by_body_style_sorted)


average_price_company = carpro.groupby('company')['price'].mean()

# Sort the result in descending order
average_price_by_company_sorted = average_price_company.sort_values(ascending=False)

# Print the result
print("Average price of cars by body style (sorted in descending order):")
print(average_price_by_company_sorted)

# Assuming 'car_type' and 'cylinders' are the column names in your dataset
car_type_count_by_cylinders = carpro.groupby('num-of-cylinders')['company'].nunique()

# Display the result
print(car_type_count_by_cylinders)

#displaying the company name alog with the price 
company_price = carpro[['company', 'price']]
print(company_price)
 
